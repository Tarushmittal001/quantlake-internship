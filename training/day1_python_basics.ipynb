{
 "cells": [
  {
   "cell_type": "markdown",
   "id": "4580a55a",
   "metadata": {},
   "source": [
    "# Day 1: Python Basics and Control Flow"
   ]
  },
  {
   "cell_type": "markdown",
   "id": "ee8b4485",
   "metadata": {},
   "source": [
    "## Variables & Data Types"
   ]
  },
  {
   "cell_type": "code",
   "execution_count": 1,
   "id": "006f641c",
   "metadata": {},
   "outputs": [
    {
     "name": "stdout",
     "output_type": "stream",
     "text": [
      "10 3.14 Alice True\n"
     ]
    }
   ],
   "source": [
    "# Integers\n",
    "x = 10  # int\n",
    "# Floating point numbers\n",
    "pi = 3.14  # float\n",
    "# Strings\n",
    "name = \"Alice\"  # str\n",
    "# Boolean\n",
    "is_active = True  # bool\n",
    "\n",
    "print(x, pi, name, is_active)\n"
   ]
  },
  {
   "cell_type": "markdown",
   "id": "ef7623e7",
   "metadata": {},
   "source": [
    "## Lists, Tuples, and Dictionaries"
   ]
  },
  {
   "cell_type": "code",
   "execution_count": 2,
   "id": "30ca9706",
   "metadata": {},
   "outputs": [
    {
     "name": "stdout",
     "output_type": "stream",
     "text": [
      "['apple', 'banana', 'cherry']\n",
      "(10.5, 20.3)\n",
      "{'name': 'Alice', 'age': 25}\n"
     ]
    }
   ],
   "source": [
    "# List - ordered, mutable\n",
    "fruits = [\"apple\", \"banana\", \"cherry\"]\n",
    "\n",
    "# Tuple - ordered, immutable\n",
    "coordinates = (10.5, 20.3)\n",
    "\n",
    "# Dictionary - key-value pairs\n",
    "person = {\"name\": \"Alice\", \"age\": 25}\n",
    "\n",
    "print(fruits)\n",
    "print(coordinates)\n",
    "print(person)\n"
   ]
  },
  {
   "cell_type": "markdown",
   "id": "c3e2541b",
   "metadata": {},
   "source": [
    "## Arithmetic and Comparison Operators"
   ]
  },
  {
   "cell_type": "code",
   "execution_count": 3,
   "id": "e0d2fad7",
   "metadata": {},
   "outputs": [
    {
     "name": "stdout",
     "output_type": "stream",
     "text": [
      "7\n",
      "10\n",
      "2.5\n",
      "25\n",
      "True\n",
      "False\n",
      "True\n"
     ]
    }
   ],
   "source": [
    "# Arithmetic\n",
    "a = 5\n",
    "b = 2\n",
    "\n",
    "print(a + b)  # addition\n",
    "print(a * b)  # multiplication\n",
    "print(a / b)  # division\n",
    "print(a ** b)  # exponent\n",
    "\n",
    "# Comparison\n",
    "print(a > b)   # greater than\n",
    "print(a == b)  # equality\n",
    "print(a != b)  # not equal\n"
   ]
  },
  {
   "cell_type": "markdown",
   "id": "f3d2d9c7",
   "metadata": {},
   "source": [
    "## Control Flow: if, elif, else"
   ]
  },
  {
   "cell_type": "code",
   "execution_count": 4,
   "id": "6f096cf7",
   "metadata": {},
   "outputs": [
    {
     "name": "stdout",
     "output_type": "stream",
     "text": [
      "Grade B\n"
     ]
    }
   ],
   "source": [
    "score = 85\n",
    "\n",
    "# Check grade with conditions\n",
    "if score >= 90:\n",
    "    print(\"Grade A\")\n",
    "elif score >= 75:\n",
    "    print(\"Grade B\")\n",
    "else:\n",
    "    print(\"Grade C\")\n"
   ]
  },
  {
   "cell_type": "markdown",
   "id": "8607a9d4",
   "metadata": {},
   "source": [
    "## Control Flow: for and while loops"
   ]
  },
  {
   "cell_type": "code",
   "execution_count": 5,
   "id": "3a6c4920",
   "metadata": {},
   "outputs": [
    {
     "name": "stdout",
     "output_type": "stream",
     "text": [
      "apple\n",
      "banana\n",
      "cherry\n",
      "Counting down: 3\n",
      "Counting down: 2\n",
      "Counting down: 1\n"
     ]
    }
   ],
   "source": [
    "# For loop\n",
    "for fruit in [\"apple\", \"banana\", \"cherry\"]:\n",
    "    print(fruit)\n",
    "\n",
    "# While loop\n",
    "counter = 3\n",
    "while counter > 0:\n",
    "    print(\"Counting down:\", counter)\n",
    "    counter -= 1\n"
   ]
  }
 ],
 "metadata": {
  "kernelspec": {
   "display_name": "Python 3 (ipykernel)",
   "language": "python",
   "name": "python3"
  },
  "language_info": {
   "codemirror_mode": {
    "name": "ipython",
    "version": 3
   },
   "file_extension": ".py",
   "mimetype": "text/x-python",
   "name": "python",
   "nbconvert_exporter": "python",
   "pygments_lexer": "ipython3",
   "version": "3.9.13"
  }
 },
 "nbformat": 4,
 "nbformat_minor": 5
}
